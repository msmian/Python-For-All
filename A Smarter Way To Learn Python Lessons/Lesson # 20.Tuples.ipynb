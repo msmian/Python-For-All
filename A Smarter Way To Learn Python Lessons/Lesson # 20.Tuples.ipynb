{
 "cells": [
  {
   "cell_type": "code",
   "execution_count": 6,
   "metadata": {},
   "outputs": [
    {
     "name": "stdout",
     "output_type": "stream",
     "text": [
      "The second state founded was Pennsylvania\n"
     ]
    }
   ],
   "source": [
    "states_in_order_of_founding = (\"Delaware\",\"Pennsylvania\", \"New Jersey\", \"Georgia\")\n",
    "second_state_founded = states_in_order_of_founding[1]\n",
    "print(\"The second state founded was \" + second_state_founded)"
   ]
  },
  {
   "cell_type": "code",
   "execution_count": 8,
   "metadata": {},
   "outputs": [
    {
     "name": "stdout",
     "output_type": "stream",
     "text": [
      "('Delaware', 'Taylorswiftsylvania formerly known as Pennsylvania', 'New Jersey', 'Georgia')\n"
     ]
    }
   ],
   "source": [
    "states_in_order_of_founding = (\"Delaware\",\"Taylorswiftsylvania formerly known as Pennsylvania\", \"New Jersey\", \"Georgia\")\n",
    "print(states_in_order_of_founding)"
   ]
  },
  {
   "cell_type": "code",
   "execution_count": null,
   "metadata": {},
   "outputs": [],
   "source": []
  }
 ],
 "metadata": {
  "kernelspec": {
   "display_name": "Python 3",
   "language": "python",
   "name": "python3"
  },
  "language_info": {
   "codemirror_mode": {
    "name": "ipython",
    "version": 3
   },
   "file_extension": ".py",
   "mimetype": "text/x-python",
   "name": "python",
   "nbconvert_exporter": "python",
   "pygments_lexer": "ipython3",
   "version": "3.7.1"
  }
 },
 "nbformat": 4,
 "nbformat_minor": 2
}
