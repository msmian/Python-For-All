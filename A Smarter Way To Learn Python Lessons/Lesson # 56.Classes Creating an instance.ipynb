{
 "cells": [
  {
   "cell_type": "code",
   "execution_count": 1,
   "metadata": {},
   "outputs": [],
   "source": [
    "class Patient():\n",
    "    def __init__(self, last_name):\n",
    "        self.last_name = last_name"
   ]
  },
  {
   "cell_type": "code",
   "execution_count": 2,
   "metadata": {},
   "outputs": [],
   "source": [
    "pid4343 = Patient(\"Taleb\")"
   ]
  },
  {
   "cell_type": "code",
   "execution_count": 3,
   "metadata": {},
   "outputs": [],
   "source": [
    "pid4344 = Patient(\"Anand\")\n",
    "pid4345 = Patient(\"Oppenheimer\")\n",
    "pid4346 = Patient(\"Lin\")\n",
    "pid12902 = Patient(\"Nilsson\")"
   ]
  },
  {
   "cell_type": "code",
   "execution_count": 4,
   "metadata": {},
   "outputs": [],
   "source": [
    "pid4343 = {\"last name\": \"Taleb\"}\n",
    "pid4344 = {\"last name\": \"Anand\"}\n",
    "pid4345 = {\"last name\": \"Oppenheimer\"}\n",
    "pid4346 = {\"last name\": \"Lin\"}\n",
    "pid12902 = {\"last name\": \"Nilsson\"}"
   ]
  },
  {
   "cell_type": "code",
   "execution_count": null,
   "metadata": {},
   "outputs": [],
   "source": []
  }
 ],
 "metadata": {
  "kernelspec": {
   "display_name": "Python 3",
   "language": "python",
   "name": "python3"
  },
  "language_info": {
   "codemirror_mode": {
    "name": "ipython",
    "version": 3
   },
   "file_extension": ".py",
   "mimetype": "text/x-python",
   "name": "python",
   "nbconvert_exporter": "python",
   "pygments_lexer": "ipython3",
   "version": "3.7.1"
  }
 },
 "nbformat": 4,
 "nbformat_minor": 2
}
