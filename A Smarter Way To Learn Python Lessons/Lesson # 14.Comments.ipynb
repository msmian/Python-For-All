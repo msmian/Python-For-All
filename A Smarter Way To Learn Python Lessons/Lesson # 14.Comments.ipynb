{
 "cells": [
  {
   "cell_type": "code",
   "execution_count": 1,
   "metadata": {},
   "outputs": [
    {
     "name": "stdout",
     "output_type": "stream",
     "text": [
      "Hello, world!\n"
     ]
    }
   ],
   "source": [
    "# This is a comment.\n",
    "# This is another comment.\n",
    "# Python ignores these comments.\n",
    "# The code that Python executes is next, on line\n",
    "print(\"Hello, world!\")"
   ]
  },
  {
   "cell_type": "code",
   "execution_count": 1,
   "metadata": {},
   "outputs": [
    {
     "name": "stdout",
     "output_type": "stream",
     "text": [
      "Welcome back to Hogwarts, Harry!\n"
     ]
    }
   ],
   "source": [
    "first_name = \"Harry\"\n",
    "last_name = \"Potter\"\n",
    "if first_name == \"Harry\":\n",
    "    if last_name == \"Potter\":\n",
    "       # if interest == \"wizardry\"\n",
    "            print(\"Welcome back to Hogwarts, Harry!\")\n"
   ]
  },
  {
   "cell_type": "code",
   "execution_count": 3,
   "metadata": {},
   "outputs": [
    {
     "name": "stdout",
     "output_type": "stream",
     "text": [
      "Hello, world!\n"
     ]
    }
   ],
   "source": [
    "# Multiline comment start ''' and end '''\n",
    "'''\n",
    "This is a comment.\n",
    "This is another comment.\n",
    "Python ignores these comments.\n",
    "The code that Python executes is on line 7.\n",
    "'''\n",
    "print(\"Hello, world!\")"
   ]
  },
  {
   "cell_type": "code",
   "execution_count": null,
   "metadata": {},
   "outputs": [],
   "source": []
  }
 ],
 "metadata": {
  "kernelspec": {
   "display_name": "Python 3",
   "language": "python",
   "name": "python3"
  },
  "language_info": {
   "codemirror_mode": {
    "name": "ipython",
    "version": 3
   },
   "file_extension": ".py",
   "mimetype": "text/x-python",
   "name": "python",
   "nbconvert_exporter": "python",
   "pygments_lexer": "ipython3",
   "version": "3.7.1"
  }
 },
 "nbformat": 4,
 "nbformat_minor": 2
}
