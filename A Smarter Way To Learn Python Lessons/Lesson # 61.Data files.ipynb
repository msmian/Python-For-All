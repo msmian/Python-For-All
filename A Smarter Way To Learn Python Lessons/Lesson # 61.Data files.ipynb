{
 "cells": [
  {
   "cell_type": "raw",
   "metadata": {},
   "source": [
    "In all the coding so far in this book, none of the data has been preserved. We\n",
    "created variables, lists, dictionaries, and class instances that contained\n",
    "information, but as soon as the computer was turned off, all of it disappeared.\n",
    "You know how to save a word processing document or spreadsheet, but\n",
    "how do you save data processed by Python?\n",
    "It starts with a line of Python code:"
   ]
  },
  {
   "cell_type": "code",
   "execution_count": 2,
   "metadata": {},
   "outputs": [
    {
     "ename": "SyntaxError",
     "evalue": "unexpected EOF while parsing (<ipython-input-2-fda74d74835e>, line 1)",
     "output_type": "error",
     "traceback": [
      "\u001b[1;36m  File \u001b[1;32m\"<ipython-input-2-fda74d74835e>\"\u001b[1;36m, line \u001b[1;32m1\u001b[0m\n\u001b[1;33m    with open(\"whatever.txt\", \"w\") as file_to_work_with:\u001b[0m\n\u001b[1;37m                                                        ^\u001b[0m\n\u001b[1;31mSyntaxError\u001b[0m\u001b[1;31m:\u001b[0m unexpected EOF while parsing\n"
     ]
    }
   ],
   "source": [
    "with open(\"whatever.txt\", \"w\") as file_to_work_with:"
   ]
  },
  {
   "cell_type": "raw",
   "metadata": {},
   "source": [
    "This line opens the text file whatever.txt if such a file exists. If it doesn't exist,\n",
    "Python creates it.\n",
    "Here's the breakdown.\n",
    "with is a puzzling (to me) way to tell Python to close the file after you\n",
    "write to it…"
   ]
  },
  {
   "cell_type": "code",
   "execution_count": 3,
   "metadata": {},
   "outputs": [
    {
     "ename": "SyntaxError",
     "evalue": "unexpected EOF while parsing (<ipython-input-3-fda74d74835e>, line 1)",
     "output_type": "error",
     "traceback": [
      "\u001b[1;36m  File \u001b[1;32m\"<ipython-input-3-fda74d74835e>\"\u001b[1;36m, line \u001b[1;32m1\u001b[0m\n\u001b[1;33m    with open(\"whatever.txt\", \"w\") as file_to_work_with:\u001b[0m\n\u001b[1;37m                                                        ^\u001b[0m\n\u001b[1;31mSyntaxError\u001b[0m\u001b[1;31m:\u001b[0m unexpected EOF while parsing\n"
     ]
    }
   ],
   "source": [
    "with open(\"whatever.txt\", \"w\") as file_to_work_with:"
   ]
  },
  {
   "cell_type": "raw",
   "metadata": {},
   "source": [
    "open is easy to remember…"
   ]
  },
  {
   "cell_type": "code",
   "execution_count": 4,
   "metadata": {},
   "outputs": [
    {
     "ename": "SyntaxError",
     "evalue": "unexpected EOF while parsing (<ipython-input-4-fda74d74835e>, line 1)",
     "output_type": "error",
     "traceback": [
      "\u001b[1;36m  File \u001b[1;32m\"<ipython-input-4-fda74d74835e>\"\u001b[1;36m, line \u001b[1;32m1\u001b[0m\n\u001b[1;33m    with open(\"whatever.txt\", \"w\") as file_to_work_with:\u001b[0m\n\u001b[1;37m                                                        ^\u001b[0m\n\u001b[1;31mSyntaxError\u001b[0m\u001b[1;31m:\u001b[0m unexpected EOF while parsing\n"
     ]
    }
   ],
   "source": [
    "with open(\"whatever.txt\", \"w\") as file_to_work_with:"
   ]
  },
  {
   "cell_type": "raw",
   "metadata": {},
   "source": [
    "The first item inside the parentheses is the name of the text file, in quotes…"
   ]
  },
  {
   "cell_type": "code",
   "execution_count": 5,
   "metadata": {},
   "outputs": [
    {
     "ename": "SyntaxError",
     "evalue": "unexpected EOF while parsing (<ipython-input-5-fda74d74835e>, line 1)",
     "output_type": "error",
     "traceback": [
      "\u001b[1;36m  File \u001b[1;32m\"<ipython-input-5-fda74d74835e>\"\u001b[1;36m, line \u001b[1;32m1\u001b[0m\n\u001b[1;33m    with open(\"whatever.txt\", \"w\") as file_to_work_with:\u001b[0m\n\u001b[1;37m                                                        ^\u001b[0m\n\u001b[1;31mSyntaxError\u001b[0m\u001b[1;31m:\u001b[0m unexpected EOF while parsing\n"
     ]
    }
   ],
   "source": [
    "with open(\"whatever.txt\", \"w\") as file_to_work_with:"
   ]
  },
  {
   "cell_type": "raw",
   "metadata": {},
   "source": [
    "Then a comma, followed by \"w\". It tells Python that you're opening the file\n",
    "so you can write to it…"
   ]
  },
  {
   "cell_type": "code",
   "execution_count": 6,
   "metadata": {},
   "outputs": [
    {
     "ename": "SyntaxError",
     "evalue": "unexpected EOF while parsing (<ipython-input-6-fda74d74835e>, line 1)",
     "output_type": "error",
     "traceback": [
      "\u001b[1;36m  File \u001b[1;32m\"<ipython-input-6-fda74d74835e>\"\u001b[1;36m, line \u001b[1;32m1\u001b[0m\n\u001b[1;33m    with open(\"whatever.txt\", \"w\") as file_to_work_with:\u001b[0m\n\u001b[1;37m                                                        ^\u001b[0m\n\u001b[1;31mSyntaxError\u001b[0m\u001b[1;31m:\u001b[0m unexpected EOF while parsing\n"
     ]
    }
   ],
   "source": [
    "with open(\"whatever.txt\", \"w\") as file_to_work_with:"
   ]
  },
  {
   "cell_type": "raw",
   "metadata": {},
   "source": [
    "as is a keyword meaning that you're assigning a file handle to the file. In\n",
    "addition to the file name, \"whatever.text,\" Python needs a handle in order to get\n",
    "into the file. In this case, I've given it a handle of file_to_work_with."
   ]
  },
  {
   "cell_type": "code",
   "execution_count": 7,
   "metadata": {},
   "outputs": [
    {
     "ename": "SyntaxError",
     "evalue": "unexpected EOF while parsing (<ipython-input-7-fda74d74835e>, line 1)",
     "output_type": "error",
     "traceback": [
      "\u001b[1;36m  File \u001b[1;32m\"<ipython-input-7-fda74d74835e>\"\u001b[1;36m, line \u001b[1;32m1\u001b[0m\n\u001b[1;33m    with open(\"whatever.txt\", \"w\") as file_to_work_with:\u001b[0m\n\u001b[1;37m                                                        ^\u001b[0m\n\u001b[1;31mSyntaxError\u001b[0m\u001b[1;31m:\u001b[0m unexpected EOF while parsing\n"
     ]
    }
   ],
   "source": [
    "with open(\"whatever.txt\", \"w\") as file_to_work_with:"
   ]
  },
  {
   "cell_type": "raw",
   "metadata": {},
   "source": [
    "The line ends with a colon, promising that there's more code to come…"
   ]
  },
  {
   "cell_type": "code",
   "execution_count": 8,
   "metadata": {},
   "outputs": [
    {
     "ename": "SyntaxError",
     "evalue": "unexpected EOF while parsing (<ipython-input-8-fda74d74835e>, line 1)",
     "output_type": "error",
     "traceback": [
      "\u001b[1;36m  File \u001b[1;32m\"<ipython-input-8-fda74d74835e>\"\u001b[1;36m, line \u001b[1;32m1\u001b[0m\n\u001b[1;33m    with open(\"whatever.txt\", \"w\") as file_to_work_with:\u001b[0m\n\u001b[1;37m                                                        ^\u001b[0m\n\u001b[1;31mSyntaxError\u001b[0m\u001b[1;31m:\u001b[0m unexpected EOF while parsing\n"
     ]
    }
   ],
   "source": [
    "with open(\"whatever.txt\", \"w\") as file_to_work_with:"
   ]
  },
  {
   "cell_type": "raw",
   "metadata": {},
   "source": [
    "You could open the file without the initial with, opting to close the file\n",
    "yourself when you're ready…"
   ]
  },
  {
   "cell_type": "code",
   "execution_count": 9,
   "metadata": {},
   "outputs": [
    {
     "ename": "SyntaxError",
     "evalue": "invalid syntax (<ipython-input-9-1b6f615838fb>, line 1)",
     "output_type": "error",
     "traceback": [
      "\u001b[1;36m  File \u001b[1;32m\"<ipython-input-9-1b6f615838fb>\"\u001b[1;36m, line \u001b[1;32m1\u001b[0m\n\u001b[1;33m    file_to_work_with = open(\"whatever.txt\", \"w\"):\u001b[0m\n\u001b[1;37m                                                 ^\u001b[0m\n\u001b[1;31mSyntaxError\u001b[0m\u001b[1;31m:\u001b[0m invalid syntax\n"
     ]
    }
   ],
   "source": [
    "file_to_work_with = open(\"whatever.txt\", \"w\"):"
   ]
  },
  {
   "cell_type": "raw",
   "metadata": {},
   "source": [
    "…but I like the automatic-closing feature, because it's one less thing to\n",
    "remember, and removes the possibility that you'll fail to close the door behind\n",
    "you.\n",
    "Note that the designation \"whatever.txt\" assumes that the file is in\n",
    "the same folder as the Python program that's opening it. If it isn't in the same\n",
    "folder, you must include the path. For example, if whatever.txt is in the data\n",
    "subfolder of the Python folder and you're using Windows, you would write…"
   ]
  },
  {
   "cell_type": "code",
   "execution_count": 10,
   "metadata": {},
   "outputs": [
    {
     "ename": "SyntaxError",
     "evalue": "invalid syntax (<ipython-input-10-3332add0208e>, line 1)",
     "output_type": "error",
     "traceback": [
      "\u001b[1;36m  File \u001b[1;32m\"<ipython-input-10-3332add0208e>\"\u001b[1;36m, line \u001b[1;32m1\u001b[0m\n\u001b[1;33m    with open(\"data\\whatever.txt\", \"w\") as\u001b[0m\n\u001b[1;37m                                          ^\u001b[0m\n\u001b[1;31mSyntaxError\u001b[0m\u001b[1;31m:\u001b[0m invalid syntax\n"
     ]
    }
   ],
   "source": [
    "with open(\"data\\whatever.txt\", \"w\") as\n",
    "file_to_work_with:"
   ]
  },
  {
   "cell_type": "raw",
   "metadata": {},
   "source": [
    "On OS X and Linux, you'd use a forward slash:"
   ]
  },
  {
   "cell_type": "code",
   "execution_count": 11,
   "metadata": {},
   "outputs": [
    {
     "ename": "SyntaxError",
     "evalue": "invalid syntax (<ipython-input-11-46f4ed5fc14b>, line 1)",
     "output_type": "error",
     "traceback": [
      "\u001b[1;36m  File \u001b[1;32m\"<ipython-input-11-46f4ed5fc14b>\"\u001b[1;36m, line \u001b[1;32m1\u001b[0m\n\u001b[1;33m    with open(\"data/whatever.txt\", \"w\") as\u001b[0m\n\u001b[1;37m                                          ^\u001b[0m\n\u001b[1;31mSyntaxError\u001b[0m\u001b[1;31m:\u001b[0m invalid syntax\n"
     ]
    }
   ],
   "source": [
    "with open(\"data/whatever.txt\", \"w\") as\n",
    "file_to_work_with:"
   ]
  },
  {
   "cell_type": "raw",
   "metadata": {},
   "source": [
    "Note that the handle file_to_work_with is a name that I made up.\n",
    "You can use any name you like, as long as it's a legal variable name…"
   ]
  },
  {
   "cell_type": "code",
   "execution_count": 12,
   "metadata": {},
   "outputs": [
    {
     "ename": "SyntaxError",
     "evalue": "unexpected EOF while parsing (<ipython-input-12-8600a2073f9d>, line 1)",
     "output_type": "error",
     "traceback": [
      "\u001b[1;36m  File \u001b[1;32m\"<ipython-input-12-8600a2073f9d>\"\u001b[1;36m, line \u001b[1;32m1\u001b[0m\n\u001b[1;33m    with open(\"whatever.txt\", \"w\") as f:\u001b[0m\n\u001b[1;37m                                        ^\u001b[0m\n\u001b[1;31mSyntaxError\u001b[0m\u001b[1;31m:\u001b[0m unexpected EOF while parsing\n"
     ]
    }
   ],
   "source": [
    "with open(\"whatever.txt\", \"w\") as f:"
   ]
  },
  {
   "cell_type": "code",
   "execution_count": null,
   "metadata": {},
   "outputs": [],
   "source": []
  }
 ],
 "metadata": {
  "kernelspec": {
   "display_name": "Python 3",
   "language": "python",
   "name": "python3"
  },
  "language_info": {
   "codemirror_mode": {
    "name": "ipython",
    "version": 3
   },
   "file_extension": ".py",
   "mimetype": "text/x-python",
   "name": "python",
   "nbconvert_exporter": "python",
   "pygments_lexer": "ipython3",
   "version": "3.7.1"
  }
 },
 "nbformat": 4,
 "nbformat_minor": 2
}
