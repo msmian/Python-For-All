{
 "cells": [
  {
   "cell_type": "raw",
   "metadata": {},
   "source": [
    "Please memorize the following facts.\n",
    "My name is Mark.\n",
    "My nationality is U.S.\n",
    "Now that you've memorized my name and nationality, I won't have to\n",
    "repeat them again. If I say to you, \"You probably know other people who have\n",
    "my name,\" you'll know I'm referring to \"Mark.\"\n",
    "If I ask you whether my nationality is the same as yours, I won't have to ask,\n",
    "\"Is your nationality the same as U.S.?\" I'll ask, \"Is your nationality the same as\n",
    "my nationality?\" You'll remember that when I say \"my nationality,\" I'm referring\n",
    "to \"U.S.\", and you'll compare your nationality with \"U.S.\", even though I haven't\n",
    "said \"U.S.\" explicitly.\n",
    "In these examples, the terms my name and my nationality work the same\n",
    "way Python variables do. my name refers to a particular value, \"Mark.\" In the\n",
    "same way, a variable refers to a particular value. You could say that my name is\n",
    "a variable that refers to the string \"Mark.\"\n",
    "A variable is created this way:"
   ]
  },
  {
   "cell_type": "code",
   "execution_count": 1,
   "metadata": {},
   "outputs": [
    {
     "name": "stdout",
     "output_type": "stream",
     "text": [
      "Mark\n"
     ]
    }
   ],
   "source": [
    "name = \"Mark\"\n",
    "print(name)"
   ]
  },
  {
   "cell_type": "raw",
   "metadata": {},
   "source": [
    "Now the variable name refers to the text string \"Mark\".\n",
    "Note that it was my choice to call it name. I could have called it my_name,\n",
    "xyz, lol, or something else. It's up to me how to name my variables, within\n",
    "limits. More on those limits later.\n",
    "With the string \"Mark\" assigned to the variable name, my Python code\n",
    "doesn't have to specify \"Mark\" again. Whenever Python encounters name,\n",
    "Python knows that it's a variable that refers to \"Mark\".\n",
    "For example, if you write..."
   ]
  },
  {
   "cell_type": "code",
   "execution_count": 1,
   "metadata": {},
   "outputs": [
    {
     "name": "stdout",
     "output_type": "stream",
     "text": [
      "Ace\n"
     ]
    }
   ],
   "source": [
    "name = \"Mark\"\n",
    "name = \"Ace\"\n",
    "print(name)"
   ]
  },
  {
   "cell_type": "code",
   "execution_count": 2,
   "metadata": {},
   "outputs": [],
   "source": [
    "lesson_author = \"Mark\"\n",
    "guy_who_keeps_saying_his_own_name = \"Mark\"\n",
    "x = \"Mark\""
   ]
  },
  {
   "cell_type": "code",
   "execution_count": 3,
   "metadata": {},
   "outputs": [],
   "source": [
    "last_name = \"Smith\"\n",
    "city_of_origin = \"New Orleans\"\n",
    "aussie_greeting = \"g'Day\""
   ]
  },
  {
   "cell_type": "code",
   "execution_count": 4,
   "metadata": {},
   "outputs": [
    {
     "name": "stdout",
     "output_type": "stream",
     "text": [
      "Thanks for your input!\n"
     ]
    }
   ],
   "source": [
    "thanx = \"Thanks for your input!\"\n",
    "print(thanx)"
   ]
  },
  {
   "cell_type": "code",
   "execution_count": null,
   "metadata": {},
   "outputs": [],
   "source": []
  }
 ],
 "metadata": {
  "kernelspec": {
   "display_name": "Python 3",
   "language": "python",
   "name": "python3"
  },
  "language_info": {
   "codemirror_mode": {
    "name": "ipython",
    "version": 3
   },
   "file_extension": ".py",
   "mimetype": "text/x-python",
   "name": "python",
   "nbconvert_exporter": "python",
   "pygments_lexer": "ipython3",
   "version": "3.7.1"
  }
 },
 "nbformat": 4,
 "nbformat_minor": 2
}
