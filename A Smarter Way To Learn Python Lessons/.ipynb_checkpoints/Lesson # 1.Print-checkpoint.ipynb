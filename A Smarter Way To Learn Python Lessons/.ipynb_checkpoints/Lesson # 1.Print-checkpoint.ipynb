{
 "cells": [
  {
   "cell_type": "raw",
   "metadata": {},
   "source": [
    "In Python, the command print tells the program to display words or numbers\n",
    "on the screen. Here's a line of code that tells Python to display the words\n",
    "“Hello, World!”"
   ]
  },
  {
   "cell_type": "code",
   "execution_count": 1,
   "metadata": {},
   "outputs": [
    {
     "name": "stdout",
     "output_type": "stream",
     "text": [
      "Hello, World!\n"
     ]
    }
   ],
   "source": [
    "print (\"Hello, World!\")"
   ]
  },
  {
   "cell_type": "raw",
   "metadata": {},
   "source": [
    "print is a keyword—that is, a word that has special meaning for Python. It\n",
    "means, \"Display what’s inside the parentheses.\" Note that print isn't\n",
    "capitalized. If you capitalize it, the program won’t run.\n",
    "The parentheses are a special requirement of Python, one that you'll soon\n",
    "get used to. You'll be typing parentheses over and over again, in all kinds of\n",
    "Python statements.\n",
    "In coding, the quoted text in the line above—\"Hello, World!\"—is called a\n",
    "text string or simply a string. The name makes sense: it's a string of characters.\n",
    "When Python displays a string on the screen, the quotation marks don't\n",
    "display. They’re only in your code to tell Python that it’s dealing with a string.\n",
    "Note that the opening parenthesis is jammed up against the keyword print,\n",
    "and the opening quotation mark is hugging the opening parenthesis. You could\n",
    "space it out, writing..."
   ]
  },
  {
   "cell_type": "code",
   "execution_count": 1,
   "metadata": {},
   "outputs": [
    {
     "name": "stdout",
     "output_type": "stream",
     "text": [
      "Hello, World!\n"
     ]
    }
   ],
   "source": [
    "print ( \"Hello, World!\" )"
   ]
  },
  {
   "cell_type": "raw",
   "metadata": {},
   "source": [
    "But I want you to learn the style conventions of Python, so I'll ask you to\n",
    "omit spaces when it’s the conventional thing to do."
   ]
  }
 ],
 "metadata": {
  "kernelspec": {
   "display_name": "Python 3",
   "language": "python",
   "name": "python3"
  },
  "language_info": {
   "codemirror_mode": {
    "name": "ipython",
    "version": 3
   },
   "file_extension": ".py",
   "mimetype": "text/x-python",
   "name": "python",
   "nbconvert_exporter": "python",
   "pygments_lexer": "ipython3",
   "version": "3.7.1"
  }
 },
 "nbformat": 4,
 "nbformat_minor": 2
}
