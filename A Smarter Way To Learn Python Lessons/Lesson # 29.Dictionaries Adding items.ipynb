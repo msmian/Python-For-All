{
 "cells": [
  {
   "cell_type": "code",
   "execution_count": 5,
   "metadata": {},
   "outputs": [],
   "source": [
    "things_to_remember = {\n",
    "0: \"the lowest number\",\n",
    "\"a dozen\": 12,\n",
    "\"snake eyes\": \"a pair of ones\",\n",
    "13: \"a baker's dozen\",\n",
    "}"
   ]
  },
  {
   "cell_type": "code",
   "execution_count": 6,
   "metadata": {},
   "outputs": [
    {
     "name": "stdout",
     "output_type": "stream",
     "text": [
      "{0: 'the lowest number', 'a dozen': 12}\n"
     ]
    }
   ],
   "source": [
    "things_to_remember = {}\n",
    "things_to_remember[0] = \"the lowest number\"\n",
    "things_to_remember[\"a dozen\"] = 12\n",
    "print(things_to_remember)"
   ]
  },
  {
   "cell_type": "code",
   "execution_count": null,
   "metadata": {},
   "outputs": [],
   "source": []
  }
 ],
 "metadata": {
  "kernelspec": {
   "display_name": "Python 3",
   "language": "python",
   "name": "python3"
  },
  "language_info": {
   "codemirror_mode": {
    "name": "ipython",
    "version": 3
   },
   "file_extension": ".py",
   "mimetype": "text/x-python",
   "name": "python",
   "nbconvert_exporter": "python",
   "pygments_lexer": "ipython3",
   "version": "3.7.1"
  }
 },
 "nbformat": 4,
 "nbformat_minor": 2
}
