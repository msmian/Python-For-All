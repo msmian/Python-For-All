{
 "cells": [
  {
   "cell_type": "raw",
   "metadata": {},
   "source": [
    "Please memorize the following facts.\n",
    "My name is Mark.\n",
    "My nationality is U.S.\n",
    "Now that you've memorized my name and nationality, I won't have to\n",
    "repeat them again. If I say to you, \"You probably know other people who have\n",
    "my name,\" you'll know I'm referring to \"Mark.\"\n",
    "If I ask you whether my nationality is the same as yours, I won't have to ask,\n",
    "\"Is your nationality the same as U.S.?\" I'll ask, \"Is your nationality the same as\n",
    "my nationality?\" You'll remember that when I say \"my nationality,\" I'm referring\n",
    "to \"U.S.\", and you'll compare your nationality with \"U.S.\", even though I haven't\n",
    "said \"U.S.\" explicitly.\n",
    "In these examples, the terms my name and my nationality work the same\n",
    "way Python variables do. my name refers to a particular value, \"Mark.\" In the\n",
    "same way, a variable refers to a particular value. You could say that my name is\n",
    "a variable that refers to the string \"Mark.\"\n",
    "A variable is created this way:"
   ]
  },
  {
   "cell_type": "code",
   "execution_count": 1,
   "metadata": {},
   "outputs": [
    {
     "name": "stdout",
     "output_type": "stream",
     "text": [
      "Mark\n"
     ]
    }
   ],
   "source": [
    "name = \"Mark\""
   ]
  },
  {
   "cell_type": "raw",
   "metadata": {},
   "source": [
    "Now the variable name refers to the text string \"Mark\".\n",
    "Note that it was my choice to call it name. I could have called it my_name,\n",
    "xyz, lol, or something else. It's up to me how to name my variables, within\n",
    "limits. More on those limits later.\n",
    "With the string \"Mark\" assigned to the variable name, my Python code\n",
    "doesn't have to specify \"Mark\" again. Whenever Python encounters name,\n",
    "Python knows that it's a variable that refers to \"Mark\".\n",
    "For example, if you write..."
   ]
  },
  {
   "cell_type": "code",
   "execution_count": 1,
   "metadata": {},
   "outputs": [
    {
     "name": "stdout",
     "output_type": "stream",
     "text": [
      "Mark\n"
     ]
    }
   ],
   "source": [
    "name = \"Mark\"\n",
    "print(name)"
   ]
  },
  {
   "cell_type": "raw",
   "metadata": {},
   "source": [
    "…Python displays…\n",
    "Mark\n",
    "The value that a variable refers to can change.\n",
    "Let's go back to the original examples, the facts I asked you to memorize.\n",
    "These facts can change, and if they do, the terms my name and my nationality\n",
    "will refer to new values.\n",
    "I could go to court and change my name to Ace. Then my name is no longer\n",
    "Mark. If I want you to address me correctly, I'll have to tell you that my name is\n",
    "now Ace. After I tell you that, you'll know that my name doesn't refer to the\n",
    "value it used to refer to (Mark), but refers to a new value (Ace).\n",
    "If I acquire U.K. citizenship, my nationality is no longer U.S. It's U.K. If I\n",
    "want you to know my nationality, I'll have to tell you that it is now U.K. After I\n",
    "tell you that, you'll know that my nationality doesn't refer to the original value,\n",
    "\"U.S.\", but now refers to a new value, U.K.\n",
    "Python variables can also change.\n",
    "If I code..."
   ]
  },
  {
   "cell_type": "code",
   "execution_count": 2,
   "metadata": {},
   "outputs": [],
   "source": [
    "name = \"Mark\""
   ]
  },
  {
   "cell_type": "raw",
   "metadata": {},
   "source": [
    "…name refers to \"Mark\". Then I come along later and code the line..."
   ]
  },
  {
   "cell_type": "code",
   "execution_count": null,
   "metadata": {},
   "outputs": [],
   "source": [
    "name = \"Ace\""
   ]
  },
  {
   "cell_type": "raw",
   "metadata": {},
   "source": [
    "Before I coded the new line, if I asked Python to print name, it displayed...\n",
    "Mark\n",
    "But that was then.\n",
    "Now if, having written…"
   ]
  },
  {
   "cell_type": "code",
   "execution_count": 4,
   "metadata": {},
   "outputs": [],
   "source": [
    "name = \"Ace\""
   ]
  },
  {
   "cell_type": "raw",
   "metadata": {},
   "source": [
    "…if I write…"
   ]
  },
  {
   "cell_type": "code",
   "execution_count": 5,
   "metadata": {},
   "outputs": [
    {
     "name": "stdout",
     "output_type": "stream",
     "text": [
      "Ace\n"
     ]
    }
   ],
   "source": [
    "print(name)"
   ]
  },
  {
   "cell_type": "raw",
   "metadata": {},
   "source": [
    "…Python displays...\n",
    "Ace\n",
    "A variable can have any number of values, but only one at a time.\n",
    "Python variable names have no inherent meaning to Python.\n",
    "In English, words have meaning. You can't use just any word to\n",
    "communicate. I can say, \"My name is Mark,\" but, if I want to be understood, I\n",
    "can't say, \"My floogle is Mark.\" That's nonsense.\n",
    "But with variables, Python is blind to semantics. You can use just any word\n",
    "(as long as it doesn't break the rules of variable-naming, which I'll cover later).\n",
    "From Python's point of view..."
   ]
  },
  {
   "cell_type": "code",
   "execution_count": 6,
   "metadata": {},
   "outputs": [],
   "source": [
    "floogle = \"Mark\""
   ]
  },
  {
   "cell_type": "raw",
   "metadata": {},
   "source": [
    "...is just as good as..."
   ]
  },
  {
   "cell_type": "code",
   "execution_count": null,
   "metadata": {},
   "outputs": [],
   "source": [
    "name = \"Mark\""
   ]
  },
  {
   "cell_type": "raw",
   "metadata": {},
   "source": [
    "If you write..."
   ]
  },
  {
   "cell_type": "code",
   "execution_count": 7,
   "metadata": {},
   "outputs": [],
   "source": [
    "floogle = \"Mark\""
   ]
  },
  {
   "cell_type": "raw",
   "metadata": {},
   "source": [
    "...then write…"
   ]
  },
  {
   "cell_type": "code",
   "execution_count": 8,
   "metadata": {},
   "outputs": [
    {
     "name": "stdout",
     "output_type": "stream",
     "text": [
      "Mark\n"
     ]
    }
   ],
   "source": [
    "print(floogle)"
   ]
  },
  {
   "cell_type": "raw",
   "metadata": {},
   "source": [
    "…Python displays...\n",
    "Mark\n",
    "Within limits, you can name variables anything you want, and Python won't\n",
    "care."
   ]
  },
  {
   "cell_type": "code",
   "execution_count": 2,
   "metadata": {},
   "outputs": [],
   "source": [
    "lesson_author = \"Mark\"\n",
    "guy_who_keeps_saying_his_own_name = \"Mark\"\n",
    "x = \"Mark\""
   ]
  },
  {
   "cell_type": "raw",
   "metadata": {},
   "source": [
    "Python's blindness to meaning notwithstanding, when it comes to variable\n",
    "names, you'll want to give your variables meaningful names, because it'll help\n",
    "you and other coders understand your code.\n",
    "Again, the syntactic difference between variables and text strings is that\n",
    "variables are never enclosed in quotes, and text strings are always enclosed in\n",
    "quotes.\n",
    "It's always..."
   ]
  },
  {
   "cell_type": "code",
   "execution_count": 3,
   "metadata": {},
   "outputs": [],
   "source": [
    "last_name = \"Smith\"\n",
    "city_of_origin = \"New Orleans\"\n",
    "aussie_greeting = \"g'Day\""
   ]
  },
  {
   "cell_type": "raw",
   "metadata": {},
   "source": [
    "If it's an alphabet letter or word, and it isn't enclosed in quotes, and it isn't a\n",
    "keyword that has special meaning for Python, like print, it's a variable.\n",
    "If it's some characters enclosed in quotes, it's a text string.\n",
    "If you haven't noticed, let me point out the spaces between the variable and\n",
    "the equal sign, and between the equal sign and the value."
   ]
  },
  {
   "cell_type": "code",
   "execution_count": null,
   "metadata": {},
   "outputs": [],
   "source": [
    "nickname = \"Bub\""
   ]
  },
  {
   "cell_type": "raw",
   "metadata": {},
   "source": [
    "These spaces are a style choice rather than a legal requirement. But I'll ask\n",
    "you to include them in your code throughout the practice exercises.\n",
    "In the last chapter you learned to write..."
   ]
  },
  {
   "cell_type": "code",
   "execution_count": null,
   "metadata": {},
   "outputs": [],
   "source": [
    "print(\"Hello, World!\")"
   ]
  },
  {
   "cell_type": "raw",
   "metadata": {},
   "source": [
    "When the code executes, Python displays Hello World! on the screen.\n",
    "But what if you wrote these two statements instead (the line numbers are\n",
    "added automatically by the editing program; they're not part of the code):"
   ]
  },
  {
   "cell_type": "code",
   "execution_count": 4,
   "metadata": {},
   "outputs": [
    {
     "name": "stdout",
     "output_type": "stream",
     "text": [
      "Thanks for your input!\n"
     ]
    }
   ],
   "source": [
    "thanx = \"Thanks for your input!\"\n",
    "print(thanx)"
   ]
  },
  {
   "cell_type": "raw",
   "metadata": {},
   "source": [
    "Instead of placing a text string inside the parentheses of the print statement,\n",
    "the code above first assigns the text string to a variable, thanx. Then it places\n",
    "the variable, not the string, inside the parentheses. Because Python always\n",
    "substitutes the value for the variable, Python displays—not the variable name\n",
    "thanx—but the text to which it refers, \"Thanks for your input!\" Thanks for\n",
    "your input! displays.\n",
    "In the example above, notice that each statement is on a separate line.\n",
    "I mentioned that you have to follow certain rules for naming variables. One\n",
    "that I've already covered: You can never enclose a variable name in quotation\n",
    "marks.\n",
    "Here's a second rule: Variable names can't have spaces in them.\n",
    "country of origin is not a legal variable name.\n",
    "It has to be…\n",
    "countryoforigin\n",
    "…or, better for readability…\n",
    "country_of_origin\n",
    "I'll cover a few more rules for naming variables shortly."
   ]
  }
 ],
 "metadata": {
  "kernelspec": {
   "display_name": "Python 3",
   "language": "python",
   "name": "python3"
  },
  "language_info": {
   "codemirror_mode": {
    "name": "ipython",
    "version": 3
   },
   "file_extension": ".py",
   "mimetype": "text/x-python",
   "name": "python",
   "nbconvert_exporter": "python",
   "pygments_lexer": "ipython3",
   "version": "3.7.1"
  }
 },
 "nbformat": 4,
 "nbformat_minor": 2
}
