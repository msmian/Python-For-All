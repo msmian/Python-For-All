{
 "cells": [
  {
   "cell_type": "raw",
   "metadata": {},
   "source": [
    "Let's say you code a function that calculates state sales tax on a retail sale. Using\n",
    "keyword arguments, you could write…"
   ]
  },
  {
   "cell_type": "code",
   "execution_count": 4,
   "metadata": {},
   "outputs": [
    {
     "name": "stdout",
     "output_type": "stream",
     "text": [
      "5.0685\n"
     ]
    }
   ],
   "source": [
    "calc_tax(sales_total=101.37, tax_rate=.05)"
   ]
  },
  {
   "cell_type": "raw",
   "metadata": {},
   "source": [
    "The function would take it from there:"
   ]
  },
  {
   "cell_type": "code",
   "execution_count": 3,
   "metadata": {},
   "outputs": [],
   "source": [
    "def calc_tax(sales_total, tax_rate):\n",
    "    print(sales_total * tax_rate)"
   ]
  },
  {
   "cell_type": "raw",
   "metadata": {},
   "source": [
    "When the function runs, Python displays…\n",
    "5.0685\n",
    "But suppose 98 percent of your sales take place in your state. Your state has\n",
    "a tax rate of 4%. Python allows you to make that rate the default value for the\n",
    "key tax_rate. Here's how:"
   ]
  },
  {
   "cell_type": "code",
   "execution_count": 10,
   "metadata": {},
   "outputs": [],
   "source": [
    "def calc_tax(sales_total, tax_rate):\n",
    "    print(sales_total * tax_rate)"
   ]
  },
  {
   "cell_type": "raw",
   "metadata": {},
   "source": [
    "Now you can skip the second argument in the function call…"
   ]
  },
  {
   "cell_type": "code",
   "execution_count": 11,
   "metadata": {},
   "outputs": [
    {
     "name": "stdout",
     "output_type": "stream",
     "text": [
      "5.0685\n"
     ]
    }
   ],
   "source": [
    "calc_tax(sales_total=101.37, tax_rate=.05)"
   ]
  },
  {
   "cell_type": "raw",
   "metadata": {},
   "source": [
    "…and just write…"
   ]
  },
  {
   "cell_type": "code",
   "execution_count": 12,
   "metadata": {},
   "outputs": [
    {
     "ename": "TypeError",
     "evalue": "calc_tax() missing 1 required positional argument: 'tax_rate'",
     "output_type": "error",
     "traceback": [
      "\u001b[1;31m---------------------------------------------------------------------------\u001b[0m",
      "\u001b[1;31mTypeError\u001b[0m                                 Traceback (most recent call last)",
      "\u001b[1;32m<ipython-input-12-62ba7c5e76ba>\u001b[0m in \u001b[0;36m<module>\u001b[1;34m\u001b[0m\n\u001b[1;32m----> 1\u001b[1;33m \u001b[0mcalc_tax\u001b[0m\u001b[1;33m(\u001b[0m\u001b[0msales_total\u001b[0m\u001b[1;33m=\u001b[0m\u001b[1;36m101.37\u001b[0m\u001b[1;33m)\u001b[0m\u001b[1;33m\u001b[0m\u001b[1;33m\u001b[0m\u001b[0m\n\u001b[0m",
      "\u001b[1;31mTypeError\u001b[0m: calc_tax() missing 1 required positional argument: 'tax_rate'"
     ]
    }
   ],
   "source": [
    "calc_tax(sales_total=101.37)"
   ]
  },
  {
   "cell_type": "raw",
   "metadata": {},
   "source": [
    "…and the function will have all it needs to make the calculation and display\n",
    "the result.\n",
    "Note: Only keyword parameters can have a default value. Positional\n",
    "parameters can't.\n",
    "In the rare case when you make a sale in another state with a different tax\n",
    "rate, you just put the second argument back into the function call…"
   ]
  },
  {
   "cell_type": "code",
   "execution_count": 7,
   "metadata": {},
   "outputs": [
    {
     "name": "stdout",
     "output_type": "stream",
     "text": [
      "7.60275\n"
     ]
    }
   ],
   "source": [
    "calc_tax(sales_total=101.37, tax_rate=.075)"
   ]
  },
  {
   "cell_type": "raw",
   "metadata": {},
   "source": [
    "…and the function replaces the default parameter, .04, with the value passed\n",
    "to the function by the calling code, .075.\n",
    "Note: Keyword parameters without defaults must come before keyword\n",
    "parameters with defaults. In the following code, tax_rate=.04 must come\n",
    "after sales_total."
   ]
  },
  {
   "cell_type": "code",
   "execution_count": 8,
   "metadata": {},
   "outputs": [],
   "source": [
    "def calc_tax(sales_total, tax_rate=.04):\n",
    "    print(sales_total * tax_rate)"
   ]
  },
  {
   "cell_type": "raw",
   "metadata": {},
   "source": [
    "You can use an empty default parameter value for an optional argument.\n",
    "Let's say you have a function that prints out an order for a single product. The\n",
    "information includes product name, color, size, and optional engraving.\n",
    "Sometimes the calling code passes a string for the engraved text, and sometimes\n",
    "it passes nothing, when engraving hasn't been ordered. So you code the final\n",
    "parameter, engraving_text, with the default value of an empty string:"
   ]
  },
  {
   "cell_type": "code",
   "execution_count": 13,
   "metadata": {},
   "outputs": [
    {
     "ename": "SyntaxError",
     "evalue": "unexpected EOF while parsing (<ipython-input-13-663dce6f926b>, line 1)",
     "output_type": "error",
     "traceback": [
      "\u001b[1;36m  File \u001b[1;32m\"<ipython-input-13-663dce6f926b>\"\u001b[1;36m, line \u001b[1;32m1\u001b[0m\n\u001b[1;33m    def print_order(product_name, color, size, engraving_text=\"\"):\u001b[0m\n\u001b[1;37m                                                                  ^\u001b[0m\n\u001b[1;31mSyntaxError\u001b[0m\u001b[1;31m:\u001b[0m unexpected EOF while parsing\n"
     ]
    }
   ],
   "source": [
    "def print_order(product_name, color, size, engraving_text=\"\"):"
   ]
  },
  {
   "cell_type": "raw",
   "metadata": {},
   "source": [
    "If the calling code includes engraving text as an argument, the string passed\n",
    "by the argument replaces the empty string. If the calling code doesn't include\n",
    "engraving text as an argument, the function uses the empty string—no\n",
    "engraving."
   ]
  },
  {
   "cell_type": "code",
   "execution_count": null,
   "metadata": {},
   "outputs": [],
   "source": []
  }
 ],
 "metadata": {
  "kernelspec": {
   "display_name": "Python 3",
   "language": "python",
   "name": "python3"
  },
  "language_info": {
   "codemirror_mode": {
    "name": "ipython",
    "version": 3
   },
   "file_extension": ".py",
   "mimetype": "text/x-python",
   "name": "python",
   "nbconvert_exporter": "python",
   "pygments_lexer": "ipython3",
   "version": "3.7.1"
  }
 },
 "nbformat": 4,
 "nbformat_minor": 2
}
