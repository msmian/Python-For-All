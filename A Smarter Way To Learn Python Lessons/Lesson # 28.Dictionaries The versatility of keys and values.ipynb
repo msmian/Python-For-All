{
 "cells": [
  {
   "cell_type": "code",
   "execution_count": null,
   "metadata": {},
   "outputs": [],
   "source": [
    "customer_29876 = {\"first name\": \"David\", \"last name\": \"Elliott\", \"address\": \"4803 Wellesley St.\"}"
   ]
  },
  {
   "cell_type": "code",
   "execution_count": 1,
   "metadata": {},
   "outputs": [
    {
     "name": "stdout",
     "output_type": "stream",
     "text": [
      "Norway\n"
     ]
    }
   ],
   "source": [
    "rankings = {5: \"Finland\", 2: \"Norway\", 3: \"Sweden\", 7: \"Iceland\"}\n",
    "second_ranking_country = rankings[2]\n",
    "print(second_ranking_country)"
   ]
  },
  {
   "cell_type": "code",
   "execution_count": 2,
   "metadata": {},
   "outputs": [
    {
     "data": {
      "text/plain": [
       "2"
      ]
     },
     "execution_count": 2,
     "metadata": {},
     "output_type": "execute_result"
    }
   ],
   "source": [
    "country_ranks_so_far = {\"Finland\": 5, \"Norway\": 2, \"Sweden\": 3, \"Iceland\": 7}\n",
    "norway_ranking = country_ranks_so_far[\"Norway\"]\n",
    "country_ranks_so_far[\"Norway\"]"
   ]
  },
  {
   "cell_type": "code",
   "execution_count": null,
   "metadata": {},
   "outputs": [],
   "source": [
    "things_to_remember = {0: \"the lowest number\", \"a dozen\": 12, \"snake eyes\": \"a pair of ones\", 13: \"a baker's dozen\"}\n"
   ]
  }
 ],
 "metadata": {
  "kernelspec": {
   "display_name": "Python 3",
   "language": "python",
   "name": "python3"
  },
  "language_info": {
   "codemirror_mode": {
    "name": "ipython",
    "version": 3
   },
   "file_extension": ".py",
   "mimetype": "text/x-python",
   "name": "python",
   "nbconvert_exporter": "python",
   "pygments_lexer": "ipython3",
   "version": "3.7.1"
  }
 },
 "nbformat": 4,
 "nbformat_minor": 2
}
