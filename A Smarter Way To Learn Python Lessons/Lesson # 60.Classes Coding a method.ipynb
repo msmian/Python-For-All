{
 "cells": [
  {
   "cell_type": "code",
   "execution_count": 1,
   "metadata": {},
   "outputs": [],
   "source": [
    "class Patient():\n",
    "    def __init__(self, last_name, first_name, age):\n",
    "        self.last_name = last_name\n",
    "        self.first_name = first_name\n",
    "        self.age = age"
   ]
  },
  {
   "cell_type": "code",
   "execution_count": 2,
   "metadata": {},
   "outputs": [],
   "source": [
    "pid4343 = Patient(\"Taleb\", \"Sue\", 61)\n",
    "pid4344 = Patient(\"Anand\", \"Punya\", 29)\n",
    "pid4345 = Patient(\"Oppenheimer\", \"Douglas\", 15)\n",
    "pid4346 = Patient(\"Lin\", \"Lilly\", 48)\n",
    "pid12902 = Patient(\"Nilsson\", \"Rhonda\", 33)"
   ]
  },
  {
   "cell_type": "code",
   "execution_count": 3,
   "metadata": {},
   "outputs": [],
   "source": [
    "def say_if_minor(patient_first_name, patient_last_name, patient_age):\n",
    "    if patient_age < 21:\n",
    "        print(patient_first_name + \" \" + patient_last_name + \" is a minor\")"
   ]
  },
  {
   "cell_type": "code",
   "execution_count": 4,
   "metadata": {},
   "outputs": [],
   "source": [
    "say_if_minor(pid4343.first_name, pid4343.last_name, pid4343.age)"
   ]
  },
  {
   "cell_type": "code",
   "execution_count": 6,
   "metadata": {},
   "outputs": [
    {
     "ename": "AttributeError",
     "evalue": "'Patient' object has no attribute 'say_if_minor'",
     "output_type": "error",
     "traceback": [
      "\u001b[1;31m---------------------------------------------------------------------------\u001b[0m",
      "\u001b[1;31mAttributeError\u001b[0m                            Traceback (most recent call last)",
      "\u001b[1;32m<ipython-input-6-b397d6903881>\u001b[0m in \u001b[0;36m<module>\u001b[1;34m\u001b[0m\n\u001b[1;32m----> 1\u001b[1;33m \u001b[0mpid4343\u001b[0m\u001b[1;33m.\u001b[0m\u001b[0msay_if_minor\u001b[0m\u001b[1;33m(\u001b[0m\u001b[1;33m)\u001b[0m\u001b[1;33m\u001b[0m\u001b[1;33m\u001b[0m\u001b[0m\n\u001b[0m",
      "\u001b[1;31mAttributeError\u001b[0m: 'Patient' object has no attribute 'say_if_minor'"
     ]
    }
   ],
   "source": [
    "pid4343.say_if_minor()"
   ]
  },
  {
   "cell_type": "code",
   "execution_count": 5,
   "metadata": {},
   "outputs": [],
   "source": [
    "class Patient():\n",
    "    def __init__(self, last_name, first_name, age):\n",
    "        self.last_name = last_name\n",
    "        self.first_name = first_name\n",
    "        self.age = age\n",
    "    def say_if_minor(self):\n",
    "        if self.age < 21:\n",
    "            print(\"This patient is a minor\")"
   ]
  },
  {
   "cell_type": "code",
   "execution_count": null,
   "metadata": {},
   "outputs": [],
   "source": []
  }
 ],
 "metadata": {
  "kernelspec": {
   "display_name": "Python 3",
   "language": "python",
   "name": "python3"
  },
  "language_info": {
   "codemirror_mode": {
    "name": "ipython",
    "version": 3
   },
   "file_extension": ".py",
   "mimetype": "text/x-python",
   "name": "python",
   "nbconvert_exporter": "python",
   "pygments_lexer": "ipython3",
   "version": "3.7.1"
  }
 },
 "nbformat": 4,
 "nbformat_minor": 2
}
