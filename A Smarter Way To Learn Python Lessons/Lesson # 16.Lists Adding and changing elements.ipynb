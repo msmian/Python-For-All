{
 "cells": [
  {
   "cell_type": "code",
   "execution_count": 13,
   "metadata": {},
   "outputs": [
    {
     "name": "stdout",
     "output_type": "stream",
     "text": [
      "['New York', 'Atlanta', 'Baltimore', 'Chicago', 'Denver', 'New York', 'Los Angeles', 'Seattle', 'New York', 47, 'Dubuque', 'New Orleans']\n",
      "['Atlanta', 'Baltimore', 'Chicago', 'Denver', 'Los Angeles', 'Seattle', 'New York', 47, 'Dubuque', 'New Orleans', 'Dubuque', 'New Orleans']\n"
     ]
    }
   ],
   "source": [
    "cities = [\"Atlanta\", \"Baltimore\", \"Chicago\",\n",
    "\"Denver\", \"Los Angeles\", \"Seattle\"]\n",
    "cities.append(\"New York\") # append funtion add the element end of the list\n",
    "cities.append(47)\n",
    "cities = cities + [\"Dubuque\", \"New Orleans\"]\n",
    "longer_list_of_cities = cities + [\"Dubuque\", \"New Orleans\"]\n",
    "cities.insert(0, \"New York\") # .insert function use add elements start and any index of the list\n",
    "cities.insert(5, \"New York\")\n",
    "print(cities)\n",
    "print(longer_list_of_cities)                                 "
   ]
  },
  {
   "cell_type": "code",
   "execution_count": 10,
   "metadata": {},
   "outputs": [
    {
     "name": "stdout",
     "output_type": "stream",
     "text": [
      "['Walk dog', 'Buy groceries']\n"
     ]
    }
   ],
   "source": [
    "todays_tasks = [] # Creat empty list\n",
    "todays_tasks = todays_tasks + [\"Walk dog\", \"Buy groceries\"] # Add elements in the empty list\n",
    "print(todays_tasks)"
   ]
  },
  {
   "cell_type": "code",
   "execution_count": null,
   "metadata": {},
   "outputs": [],
   "source": []
  }
 ],
 "metadata": {
  "kernelspec": {
   "display_name": "Python 3",
   "language": "python",
   "name": "python3"
  },
  "language_info": {
   "codemirror_mode": {
    "name": "ipython",
    "version": 3
   },
   "file_extension": ".py",
   "mimetype": "text/x-python",
   "name": "python",
   "nbconvert_exporter": "python",
   "pygments_lexer": "ipython3",
   "version": "3.7.1"
  }
 },
 "nbformat": 4,
 "nbformat_minor": 2
}
