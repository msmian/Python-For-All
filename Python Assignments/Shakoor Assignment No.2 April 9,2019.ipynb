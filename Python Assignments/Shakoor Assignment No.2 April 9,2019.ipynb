{
 "cells": [
  {
   "cell_type": "markdown",
   "metadata": {},
   "source": [
    "<h3>Q no 1:  Write a python program to find number of occurrences of given number in a list with out using built-in methods</h3>\n",
    "<h4>**1 generate a list of some random num which is repeated again and again</h4>\n",
    "<h4>**2 take user input any number</h4>\n",
    "<h4>**3 find the number of occurrences of that num in your list</h4>\n",
    "<h4>**4 print some message to user with that result</h4>"
   ]
  },
  {
   "cell_type": "code",
   "execution_count": 2,
   "metadata": {},
   "outputs": [
    {
     "name": "stdout",
     "output_type": "stream",
     "text": [
      "Enter any Number to check how many times it is repeated in our List: 3\n",
      "Number is repeated that times:  5\n"
     ]
    }
   ],
   "source": [
    "list =  [8,3,6,9,6,3,55,55,44,44,44,3,3,3,55,55]\n",
    "num = int(input(\"Enter any Number to check how many times it is repeated in our List: \"))\n",
    "count = 0   # It will count the occurrences of that number\n",
    "\n",
    "for i in list:\n",
    "    if i == num:\n",
    "        count += 1\n",
    "\n",
    "print(\"Number is repeated that times: \" ,count)"
   ]
  },
  {
   "cell_type": "markdown",
   "metadata": {},
   "source": [
    "<h3>Q no 2:   [\"www.zframez.com\", \"www.wikipedia.org\", \"www.asp.net\", \"www.abcd.in\"]\n",
    "<br/><br/><br/><br/><br/>\n",
    "Write a python program to print website suffixes (com , org , net ,in) from this list\n",
    "</h3>"
   ]
  },
  {
   "cell_type": "code",
   "execution_count": 6,
   "metadata": {},
   "outputs": [
    {
     "name": "stdout",
     "output_type": "stream",
     "text": [
      ".com\n",
      ".org\n",
      ".net\n",
      ".in\n"
     ]
    }
   ],
   "source": [
    "list_1 =  [\"www.zframez.com\", \"www.wikipedia.org\", \"www.asp.net\", \"www.abcd.in\"] \n",
    "\n",
    "for element in list_1:\n",
    "    loc = element.find(\".\", 4)\n",
    "    print(element[loc:])"
   ]
  },
  {
   "cell_type": "markdown",
   "metadata": {},
   "source": [
    "<h3> Q no 3 : Write a program which can compute the factorial of a given numbers.</h3>\n",
    "<br/>\n",
    "<br/>\n",
    "<h4>**1 first take user input any number</h4>\n",
    "<h4>**2 calculate factorial of that input and then print the result to user</h4>"
   ]
  },
  {
   "cell_type": "code",
   "execution_count": 9,
   "metadata": {},
   "outputs": [
    {
     "name": "stdout",
     "output_type": "stream",
     "text": [
      "Enter a number 5\n",
      "Factorial of 5 is 120\n"
     ]
    }
   ],
   "source": [
    "num = int(input(\"Enter a number \"))\n",
    "fac = 1\n",
    "for i in range(1, num + 1):\n",
    "    fac = fac * i\n",
    "print(\"Factorial of\", num, \"is\",fac)    "
   ]
  },
  {
   "cell_type": "markdown",
   "metadata": {},
   "source": [
    "<h3>Q 4 (a) :  If you could invite anyone, living or deceased, to dinner, who\n",
    "would you invite? Make a list that includes at least three people you’d like to\n",
    "invite to dinner. Then use your list to print a message to each person, inviting\n",
    "them to dinner.</h3>"
   ]
  },
  {
   "cell_type": "code",
   "execution_count": 11,
   "metadata": {},
   "outputs": [
    {
     "name": "stdout",
     "output_type": "stream",
     "text": [
      "My Dear Friend Ali Raza You are invited for dinner\n",
      "My Dear Friend Khizar You are invited for dinner\n",
      "My Dear Friend Sir Iqbal Trainer You are invited for dinner\n"
     ]
    }
   ],
   "source": [
    "guest = [\"Ali Raza\", \"Khizar\", \"Sir Iqbal Trainer\"]\n",
    "for friend in guest:\n",
    "    print(\"My Dear Friend\", friend, \"You are invited for dinner\")"
   ]
  },
  {
   "cell_type": "markdown",
   "metadata": {},
   "source": [
    "<h3>Q 4 (b) : You just heard that one of your guests can’t make the\n",
    "dinner, so you need to send out a new set of invitations. You’ll have to think of\n",
    "someone else to invite.<br/></br><br/>\n",
    "•\t Start with your program from Q 4 (a). Add a print statement at the\n",
    "end of your program stating the name of the guest who can’t make it.<br/></br><br/>\n",
    "•\t Modify your list, replacing the name of the guest who can’t make it with\n",
    "the name of the new person you are inviting.<br/></br><br/>\n",
    "•\t Print a second set of invitation messages, one for each person who is still\n",
    "in your list.<br/></br><br/></h3>"
   ]
  },
  {
   "cell_type": "code",
   "execution_count": 12,
   "metadata": {},
   "outputs": [
    {
     "name": "stdout",
     "output_type": "stream",
     "text": [
      "My Dear Friend Ali Raza You are invited for dinner\n",
      "My Dear Friend Khizar You are invited for dinner\n",
      "My Dear Friend Sehrish You are invited for dinner\n",
      "Sir Iqbal Trainer is not coming tonight at dinner\n"
     ]
    }
   ],
   "source": [
    "for friend in guest:\n",
    "    guest[2] = \"Sehrish\"\n",
    "    print(\"My Dear Friend\", friend, \"You are invited for dinner\")\n",
    "    \n",
    "print(\"Sir Iqbal Trainer is not coming tonight at dinner\")"
   ]
  },
  {
   "cell_type": "markdown",
   "metadata": {},
   "source": [
    "<h3>Q 4 (c) : You just found a bigger dinner table, so now more space is\n",
    "available. Think of three more guests to invite to dinner.<br/></br><br/>\n",
    "•\t Start with your program from Q 4 (a) and (b) Add a print\n",
    "statement to the end of your program informing people that you found a\n",
    "bigger dinner table.<br/></br><br/>\n",
    "•\t Use insert() to add one new guest to the beginning of your list.<br/></br><br/>\n",
    "•\t Use insert() to add one new guest to the middle of your list.<br/></br><br/>\n",
    "•\t Use append() to add one new guest to the end of your list.<br/></br><br/>\n",
    "•\t Print a new set of invitation messages, one for each person in your list.<br/></br><br/></h3>"
   ]
  },
  {
   "cell_type": "code",
   "execution_count": 13,
   "metadata": {},
   "outputs": [
    {
     "name": "stdout",
     "output_type": "stream",
     "text": [
      "My Dear Friend Bilal You are invited for dinner\n",
      "My Dear Friend Shams You are invited for dinner\n",
      "My Dear Friend Ali Raza You are invited for dinner\n",
      "My Dear Friend Khizar You are invited for dinner\n",
      "My Dear Friend Sehrish You are invited for dinner\n",
      "My Dear Friend Shakeel You are invited for dinner\n"
     ]
    }
   ],
   "source": [
    "guest.insert(0, \"Bilal\")\n",
    "guest.insert(1, \"Shams\")\n",
    "guest.append(\"Shakeel\")\n",
    "\n",
    "for friend in guest:\n",
    "     print(\"My Dear Friend\", friend, \"You are invited for dinner\")\n",
    "    "
   ]
  },
  {
   "cell_type": "markdown",
   "metadata": {},
   "source": [
    "<h5> Q 5 : Here you have some data in variable below, your task is to make a list of specific word Surah then print the list and length of list</h5>\n"
   ]
  },
  {
   "cell_type": "code",
   "execution_count": null,
   "metadata": {},
   "outputs": [],
   "source": [
    "data = \"Sura I Who believe in the Unseen, Sura Are steadfast in prayer, And spend Sura out of what We Have provided for them;\"\n"
   ]
  },
  {
   "cell_type": "code",
   "execution_count": 14,
   "metadata": {},
   "outputs": [
    {
     "name": "stdout",
     "output_type": "stream",
     "text": [
      "['Sura I Who believe in the Unseen', 'Sura Are steadfast in prayer', 'And spend Sura out of what We Have provided for them;']\n"
     ]
    },
    {
     "data": {
      "text/plain": [
       "3"
      ]
     },
     "execution_count": 14,
     "metadata": {},
     "output_type": "execute_result"
    }
   ],
   "source": [
    "sura = [\"Sura I Who believe in the Unseen\", \n",
    "         \"Sura Are steadfast in prayer\", \n",
    "         \"And spend Sura out of what We Have provided for them;\"]\n",
    "\n",
    "print(sura)\n",
    "len(sura)"
   ]
  }
 ],
 "metadata": {
  "kernelspec": {
   "display_name": "Python 3",
   "language": "python",
   "name": "python3"
  },
  "language_info": {
   "codemirror_mode": {
    "name": "ipython",
    "version": 3
   },
   "file_extension": ".py",
   "mimetype": "text/x-python",
   "name": "python",
   "nbconvert_exporter": "python",
   "pygments_lexer": "ipython3",
   "version": "3.7.1"
  }
 },
 "nbformat": 4,
 "nbformat_minor": 2
}
