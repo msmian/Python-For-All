{
 "cells": [
  {
   "cell_type": "code",
   "execution_count": 13,
   "metadata": {},
   "outputs": [
    {
     "name": "stdout",
     "output_type": "stream",
     "text": [
      "Your name is:  Shakoor \n",
      "Your age is:  22\n"
     ]
    }
   ],
   "source": [
    "def person(name, age):\n",
    "    print(\"Your name is: \", name,  \"\\nYour age is: \",age)\n",
    "person(\"Shakoor\", 22)"
   ]
  },
  {
   "cell_type": "code",
   "execution_count": 18,
   "metadata": {},
   "outputs": [
    {
     "name": "stdout",
     "output_type": "stream",
     "text": [
      "127 * 1 = 127\n",
      "127 * 2 = 254\n",
      "127 * 3 = 381\n",
      "127 * 4 = 508\n",
      "127 * 5 = 635\n",
      "127 * 6 = 762\n",
      "127 * 7 = 889\n",
      "127 * 8 = 1016\n",
      "127 * 9 = 1143\n",
      "127 * 10 = 1270\n"
     ]
    }
   ],
   "source": [
    "def table(value):\n",
    "    for i in range (1,11):\n",
    "        print(value, \"*\", i, \"=\", value * i)\n",
    "table(127)"
   ]
  },
  {
   "cell_type": "code",
   "execution_count": null,
   "metadata": {},
   "outputs": [],
   "source": []
  }
 ],
 "metadata": {
  "kernelspec": {
   "display_name": "Python 3",
   "language": "python",
   "name": "python3"
  },
  "language_info": {
   "codemirror_mode": {
    "name": "ipython",
    "version": 3
   },
   "file_extension": ".py",
   "mimetype": "text/x-python",
   "name": "python",
   "nbconvert_exporter": "python",
   "pygments_lexer": "ipython3",
   "version": "3.7.1"
  }
 },
 "nbformat": 4,
 "nbformat_minor": 2
}
